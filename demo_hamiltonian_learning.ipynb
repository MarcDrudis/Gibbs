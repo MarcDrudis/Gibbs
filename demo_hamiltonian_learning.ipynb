{
 "cells": [
  {
   "cell_type": "code",
   "execution_count": 150,
   "metadata": {},
   "outputs": [],
   "source": [
    "import numpy as np\n",
    "from itertools import product\n",
    "import functools\n",
    "from qiskit.quantum_info import Statevector, Pauli, SparsePauliOp, partial_trace\n",
    "from scipy.sparse import csr_matrix\n",
    "from scipy.sparse.linalg import svds\n",
    "from scipy.sparse.linalg import expm_multiply, minres, eigsh, expm, eigsh\n",
    "from scipy.linalg import ishermitian\n",
    "from hamiltonian_learning import reconstruct_hamiltonian,hamiltonian_to_vector, create_hamiltonian_lattice, create_constraint_matrix, create_klocal_pauli_basis,simple_purify_hamiltonian, sample_pauli_basis"
   ]
  },
  {
   "cell_type": "markdown",
   "metadata": {},
   "source": [
    "Create the Hamiltonian that we want to find the Gibbs State of:"
   ]
  },
  {
   "cell_type": "code",
   "execution_count": 151,
   "metadata": {},
   "outputs": [],
   "source": [
    "N=7\n",
    "k = 2\n",
    "hamiltonian = create_hamiltonian_lattice(N, 0.1, -1.0)\n",
    "#We can add some noise to the hamiltonian\n",
    "noisy_hamiltonian = (hamiltonian + 1e-5 * create_hamiltonian_lattice(N, -1, 3)).simplify()"
   ]
  },
  {
   "cell_type": "markdown",
   "metadata": {},
   "source": [
    "We could try to implement a thermometer."
   ]
  },
  {
   "cell_type": "code",
   "execution_count": 152,
   "metadata": {},
   "outputs": [],
   "source": [
    "# thermometer = SparsePauliOp.from_list([(\"I\"*N + \"Z\",1.0)])    \n",
    "# hamiltonian= (hamiltonian^\"I\") + thermometer\n",
    "# N += 1"
   ]
  },
  {
   "cell_type": "markdown",
   "metadata": {},
   "source": [
    "Now we can create the exact thermal state of the hamiltonian, if we want to try the faulty implementation, the error is modeled by adding noise to our hamiltonian."
   ]
  },
  {
   "cell_type": "code",
   "execution_count": 153,
   "metadata": {},
   "outputs": [],
   "source": [
    "thermal_state = simple_purify_hamiltonian(hamiltonian, noise=0)\n",
    "# thermal_state = simple_purify_hamiltonian(noisy_hamiltonian, noise=0)"
   ]
  },
  {
   "cell_type": "markdown",
   "metadata": {},
   "source": [
    "We now choose our set of constraints and sample over the needed basis to construct all the commutators [A,S] we need."
   ]
  },
  {
   "cell_type": "code",
   "execution_count": 154,
   "metadata": {},
   "outputs": [
    {
     "name": "stdout",
     "output_type": "stream",
     "text": [
      "The shape of the constraint matrix is: (255, 75)\n"
     ]
    }
   ],
   "source": [
    "\n",
    "sampling_basis = create_klocal_pauli_basis(N, 2 * k)\n",
    "epsilon = 1e-8\n",
    "sampled_pauli = sample_pauli_basis(thermal_state, sampling_basis, 1000, noise=epsilon)\n",
    "Aq_basis = list(create_klocal_pauli_basis(N, k + 1))\n",
    "Sm_basis = list(create_klocal_pauli_basis(N, k))\n",
    "constraint_matrix = create_constraint_matrix(\n",
    "    sampled_pauli, Aq_basis=Aq_basis, Sm_basis=Sm_basis\n",
    ")\n",
    "print(\"The shape of the constraint matrix is:\",constraint_matrix.shape)\n"
   ]
  },
  {
   "cell_type": "markdown",
   "metadata": {},
   "source": [
    "Now we need to find the singular values and singular vectors of K."
   ]
  },
  {
   "cell_type": "code",
   "execution_count": 155,
   "metadata": {},
   "outputs": [
    {
     "name": "stdout",
     "output_type": "stream",
     "text": [
      "The first singular values of K are\n",
      "[2.82016082e-15 1.23666843e-04 2.21730670e-04 3.44749616e-04]\n"
     ]
    }
   ],
   "source": [
    "KTK = constraint_matrix.T.conj().dot(constraint_matrix)\n",
    "eigvals, eigvecs = np.linalg.eigh(KTK.todense())\n",
    "print(\"The first singular values of K are\")\n",
    "print(eigvals[:4])\n"
   ]
  },
  {
   "cell_type": "markdown",
   "metadata": {},
   "source": [
    "Finally, we can compare the error between the actual hamiltonian that has been implemented and the one we learned."
   ]
  },
  {
   "cell_type": "code",
   "execution_count": 157,
   "metadata": {},
   "outputs": [
    {
     "name": "stdout",
     "output_type": "stream",
     "text": [
      "The actual error between normalized hamiltonians is: 1.79e-06\n",
      "The distance between the original and the noisy hamiltonian is: 8.31e-05\n"
     ]
    }
   ],
   "source": [
    "original_vector = hamiltonian_to_vector(Sm_basis, hamiltonian)\n",
    "noisy_hamiltonian_vector = hamiltonian_to_vector(Sm_basis, noisy_hamiltonian)\n",
    "rec_hams = [reconstruct_hamiltonian(Sm_basis, eigvecs[:, i]) for i in range(5)]\n",
    "rec_vectors = [hamiltonian_to_vector(Sm_basis, rec_hams[i]) for i in range(5)]\n",
    "rec_vectors = [r / np.linalg.norm(r) for r in rec_vectors]\n",
    "print(f\"The actual error between normalized hamiltonians is: {np.linalg.norm( rec_vectors[0] *np.linalg.norm(original_vector) - original_vector  ) :.2e}\" )\n",
    "print(f\"The distance between the original and the noisy hamiltonian is: { np.linalg.norm( original_vector - noisy_hamiltonian_vector) :.2e}\" )\n",
    "# print(f\"The expected error was less than:{ np.linalg.norm(original_vector) * epsilon *np.sqrt(1/eigvals[1:].sum()):.2e}\" )"
   ]
  },
  {
   "cell_type": "code",
   "execution_count": null,
   "metadata": {},
   "outputs": [],
   "source": []
  }
 ],
 "metadata": {
  "kernelspec": {
   "display_name": "Python 3.10.7 ('Darius_Gibbs')",
   "language": "python",
   "name": "python3"
  },
  "language_info": {
   "codemirror_mode": {
    "name": "ipython",
    "version": 3
   },
   "file_extension": ".py",
   "mimetype": "text/x-python",
   "name": "python",
   "nbconvert_exporter": "python",
   "pygments_lexer": "ipython3",
   "version": "3.10.7"
  },
  "orig_nbformat": 4,
  "vscode": {
   "interpreter": {
    "hash": "d2d700cd3a648c3ea236864064bbf01e20d1947c37f2ea4be0e177f22c67c314"
   }
  }
 },
 "nbformat": 4,
 "nbformat_minor": 2
}
