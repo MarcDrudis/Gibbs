{
 "cells": [
  {
   "cell_type": "code",
   "execution_count": 4,
   "metadata": {},
   "outputs": [
    {
     "name": "stdout",
     "output_type": "stream",
     "text": [
      "The autoreload extension is already loaded. To reload it, use:\n",
      "  %reload_ext autoreload\n"
     ]
    }
   ],
   "source": [
    "from default_varqite_gibbs import qite_gibbs_state_builder, classical_gibbs_distr\n",
    "from qiskit.quantum_info import SparsePauliOp\n",
    "import numpy as np\n",
    "import matplotlib.pyplot as plt\n",
    "import time\n",
    "%load_ext autoreload\n",
    "%autoreload 2"
   ]
  },
  {
   "cell_type": "code",
   "execution_count": 22,
   "metadata": {},
   "outputs": [],
   "source": [
    "def create_hamiltonian_lattice(num_sites: int) -> SparsePauliOp:\n",
    "    \"\"\"Creates an Ising Hamiltonian on a lattice.\"\"\"\n",
    "    j_const = 0.1\n",
    "    g_const = -1.0\n",
    "\n",
    "    zz_op = [\"I\" * i + \"ZZ\" + \"I\" * (num_sites - i - 2) for i in range(num_sites - 1)]\n",
    "    x_op = [\"I\" * i + \"X\" + \"I\" * (num_sites - i - 1) for i in range(num_sites)]\n",
    "    return SparsePauliOp(zz_op) * j_const + SparsePauliOp(x_op) * g_const\n",
    "\n",
    "hamiltonian = create_hamiltonian_lattice(4)\n",
    "beta = 5"
   ]
  },
  {
   "cell_type": "code",
   "execution_count": 23,
   "metadata": {},
   "outputs": [
    {
     "name": "stdout",
     "output_type": "stream",
     "text": [
      "[0.05372036+0.j 0.05923124+0.j 0.06545532+0.j 0.05908218+0.j\n",
      " 0.06545532+0.j 0.07253409+0.j 0.06529026+0.j 0.05923124+0.j\n",
      " 0.05923124+0.j 0.06529026+0.j 0.07253409+0.j 0.06545532+0.j\n",
      " 0.05908218+0.j 0.06545532+0.j 0.05923124+0.j 0.05372036+0.j]\n",
      "3 Time:390.6 [0.06246189 0.06246189 0.06246189 0.06246189 0.06253811 0.06253811\n",
      " 0.06253811 0.06253811 0.06253811 0.06253811 0.06253811 0.06253811\n",
      " 0.06246189 0.06246189 0.06246189 0.06246189] Error: 0.021641345700108817\n",
      "10 Time:1224.3 [0.0624656 0.0624656 0.0624656 0.0624656 0.0625344 0.0625344 0.0625344\n",
      " 0.0625344 0.0625344 0.0625344 0.0625344 0.0625344 0.0624656 0.0624656\n",
      " 0.0624656 0.0624656] Error: 0.021649811236213273\n"
     ]
    }
   ],
   "source": [
    "expected_result = classical_gibbs_distr(hamiltonian = hamiltonian, beta = beta)\n",
    "print(expected_result)\n",
    "qite_probs = []\n",
    "for steps in [3,10]:\n",
    "    start = time.time()\n",
    "    result = qite_gibbs_state_builder(hamiltonian = hamiltonian, beta = beta, steps=5*steps,depth =3,  seed=0)\n",
    "    finish = time.time()\n",
    "    qite_probs.append(result[\"qite_state_probs\"])\n",
    "    print(steps,f\"Time:{finish-start:.1f}\",qite_probs[-1],\"Error:\",np.linalg.norm(expected_result - qite_probs[-1]))\n"
   ]
  },
  {
   "cell_type": "code",
   "execution_count": 21,
   "metadata": {},
   "outputs": [
    {
     "data": {
      "text/plain": [
       "(0.0, 1.0)"
      ]
     },
     "execution_count": 21,
     "metadata": {},
     "output_type": "execute_result"
    },
    {
     "data": {
      "image/png": "[encoded data removed]",
      "text/plain": [
       "<Figure size 432x288 with 1 Axes>"
      ]
     },
     "metadata": {
      "needs_background": "light"
     },
     "output_type": "display_data"
    }
   ],
   "source": [
    "plt.plot(list(range(1,1+len(qite_probs))),[np.linalg.norm(expected_result - q) for q in qite_probs])\n",
    "plt.ylim(0,1)"
   ]
  },
  {
   "cell_type": "code",
   "execution_count": null,
   "metadata": {},
   "outputs": [
    {
     "name": "stdout",
     "output_type": "stream",
     "text": [
      "[2.12417713e-18+0.j 5.00000000e-01+0.j 5.00000000e-01+0.j\n",
      " 2.12417713e-18+0.j]\n",
      "1 Time:5.5 [0.39846574 0.10153426 0.10153426 0.39846574] Error: 0.7969314731897099\n",
      "2 Time:13.7 [0.39846574 0.10153426 0.10153426 0.39846574] Error: 0.7969314731939539\n",
      "3 Time:28.1 [0.39846574 0.10153426 0.10153426 0.39846574] Error: 0.7969314731822381\n",
      "4 Time:50.7 [0.39846574 0.10153426 0.10153426 0.39846574] Error: 0.7969314731941657\n"
     ]
    }
   ],
   "source": [
    "expected_result = classical_gibbs_distr(hamiltonian = hamiltonian, beta = beta)\n",
    "print(expected_result)\n",
    "qite_probs = []\n",
    "for depth in range(1,5):\n",
    "    start = time.time()\n",
    "    result = qite_gibbs_state_builder(hamiltonian = hamiltonian, beta = beta, steps=steps,depth =depth,  seed=0)\n",
    "    finish = time.time()\n",
    "    qite_probs.append(result[\"qite_state_probs\"])\n",
    "    print(depth,f\"Time:{finish-start:.1f}\",qite_probs[-1],\"Error:\",np.linalg.norm(expected_result - qite_probs[-1]))"
   ]
  },
  {
   "cell_type": "code",
   "execution_count": null,
   "metadata": {},
   "outputs": [
    {
     "data": {
      "text/plain": [
       "(0.0, 1.0)"
      ]
     },
     "execution_count": 35,
     "metadata": {},
     "output_type": "execute_result"
    },
    {
     "data": {
      "image/png": "[encoded data removed]",
      "text/plain": [
       "<Figure size 432x288 with 1 Axes>"
      ]
     },
     "metadata": {
      "needs_background": "light"
     },
     "output_type": "display_data"
    }
   ],
   "source": [
    "plt.plot(list(range(1,1+len(qite_probs))),[np.linalg.norm(expected_result - q) for q in qite_probs])\n",
    "plt.ylim(0,1)"
   ]
  }
 ],
 "metadata": {
  "kernelspec": {
   "display_name": "Python 3.10.7 ('Darius_Gibbs')",
   "language": "python",
   "name": "python3"
  },
  "language_info": {
   "codemirror_mode": {
    "name": "ipython",
    "version": 3
   },
   "file_extension": ".py",
   "mimetype": "text/x-python",
   "name": "python",
   "nbconvert_exporter": "python",
   "pygments_lexer": "ipython3",
   "version": "3.10.7"
  },
  "orig_nbformat": 4,
  "vscode": {
   "interpreter": {
    "hash": "d2d700cd3a648c3ea236864064bbf01e20d1947c37f2ea4be0e177f22c67c314"
   }
  }
 },
 "nbformat": 4,
 "nbformat_minor": 2
}
