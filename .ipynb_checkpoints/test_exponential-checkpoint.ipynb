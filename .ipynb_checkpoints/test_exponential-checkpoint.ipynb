{
 "cells": [
  {
   "cell_type": "code",
   "execution_count": 55,
   "id": "a93342b7",
   "metadata": {},
   "outputs": [],
   "source": [
    "import numpy as np\n",
    "from scipy.linalg import expm"
   ]
  },
  {
   "cell_type": "code",
   "execution_count": 9,
   "id": "00dd86b4",
   "metadata": {},
   "outputs": [],
   "source": [
    "def abs_exp(eig:list) -> float: #This is what we have in the bound\n",
    "    return np.exp(np.max(np.abs(eig)))\n",
    "\n",
    "def exp_abs(eig:list) -> float: #This is what we want\n",
    "    return np.max(np.exp(-eig))\n",
    "\n",
    "def compare(eig:list) -> bool:\n",
    "    return abs_exp(eig)>= exp_abs(eig)"
   ]
  },
  {
   "cell_type": "code",
   "execution_count": 10,
   "id": "a0eb6789",
   "metadata": {
    "collapsed": true
   },
   "outputs": [
    {
     "name": "stdout",
     "output_type": "stream",
     "text": [
      "True\n",
      "True\n",
      "True\n",
      "True\n",
      "True\n",
      "True\n",
      "True\n",
      "True\n",
      "True\n",
      "True\n",
      "True\n",
      "True\n",
      "True\n",
      "True\n",
      "True\n",
      "True\n",
      "True\n",
      "True\n",
      "True\n",
      "True\n",
      "True\n",
      "True\n",
      "True\n",
      "True\n",
      "True\n",
      "True\n",
      "True\n",
      "True\n",
      "True\n",
      "True\n",
      "True\n",
      "True\n",
      "True\n",
      "True\n",
      "True\n",
      "True\n",
      "True\n",
      "True\n",
      "True\n",
      "True\n",
      "True\n",
      "True\n",
      "True\n",
      "True\n",
      "True\n",
      "True\n",
      "True\n",
      "True\n",
      "True\n",
      "True\n",
      "True\n",
      "True\n",
      "True\n",
      "True\n",
      "True\n",
      "True\n",
      "True\n",
      "True\n",
      "True\n",
      "True\n",
      "True\n",
      "True\n",
      "True\n",
      "True\n",
      "True\n",
      "True\n",
      "True\n",
      "True\n",
      "True\n",
      "True\n",
      "True\n",
      "True\n",
      "True\n",
      "True\n",
      "True\n",
      "True\n",
      "True\n",
      "True\n",
      "True\n",
      "True\n",
      "True\n",
      "True\n",
      "True\n",
      "True\n",
      "True\n",
      "True\n",
      "True\n",
      "True\n",
      "True\n",
      "True\n",
      "True\n",
      "True\n",
      "True\n",
      "True\n",
      "True\n",
      "True\n",
      "True\n",
      "True\n",
      "True\n",
      "True\n"
     ]
    }
   ],
   "source": [
    "for _ in range(100):\n",
    "    vector = np.random.rand(5)\n",
    "    print(compare(vector))"
   ]
  },
  {
   "cell_type": "code",
   "execution_count": 19,
   "id": "52145046",
   "metadata": {},
   "outputs": [],
   "source": [
    "def partition_function(eig:list) -> float:\n",
    "    return sum(np.exp(-eig))\n",
    "def gibbs_state(eig:list) -> float:\n",
    "    return np.exp(-eig)/partition_function(eig)\n",
    "def exp_norm_hamiltonian(eig:list) -> float:\n",
    "    return np.exp(np.max(np.abs(eig)))/partition_function(eig)"
   ]
  },
  {
   "cell_type": "code",
   "execution_count": 18,
   "id": "76cd03ee",
   "metadata": {},
   "outputs": [
    {
     "data": {
      "text/plain": [
       "1.0000000000000002"
      ]
     },
     "execution_count": 18,
     "metadata": {},
     "output_type": "execute_result"
    }
   ],
   "source": [
    "sum(gibbs_state(vector))\n"
   ]
  },
  {
   "cell_type": "code",
   "execution_count": 22,
   "id": "f530e104",
   "metadata": {},
   "outputs": [
    {
     "data": {
      "text/plain": [
       "0.5527586529692203"
      ]
     },
     "execution_count": 22,
     "metadata": {},
     "output_type": "execute_result"
    }
   ],
   "source": [
    "exp_norm_hamiltonian(vector)"
   ]
  },
  {
   "cell_type": "code",
   "execution_count": 103,
   "id": "0f7508a6",
   "metadata": {},
   "outputs": [],
   "source": [
    "for _ in range(1):\n",
    "    vector = np.random.rand(2)-0.5\n",
    "    quant = exp_norm_hamiltonian(vector)\n",
    "    if quant>1:\n",
    "        print('This is an example')\n",
    "        print(quant)\n",
    "        print(sum(gibbs_state(vector)))\n",
    "        print(vector)"
   ]
  },
  {
   "cell_type": "code",
   "execution_count": 101,
   "id": "51b43627",
   "metadata": {},
   "outputs": [],
   "source": [
    "N=3\n",
    "for _ in range(100000):\n",
    "    A = np.random.rand(3,3)-0.5\n",
    "    A = A + A.T\n",
    "    B = np.random.rand(3,3)-0.5\n",
    "    B = B+B.T\n",
    "    expA = expm(A)\n",
    "    expAB = expm(A+B)\n",
    "    w,v = np.linalg.eigh(expAB-expA)\n",
    "    ww,vv = np.linalg.eigh(expA)\n",
    "    www,vvv = np.linalg.eigh(B)\n",
    "    quant = max(np.abs(w))\n",
    "    bound = max(np.abs(ww)) * (np.exp(max(np.abs(www))) - 1 )\n",
    "    if quant > bound:\n",
    "        print(quant,bound)"
   ]
  },
  {
   "cell_type": "code",
   "execution_count": 120,
   "id": "c37e53e3",
   "metadata": {},
   "outputs": [
    {
     "name": "stdout",
     "output_type": "stream",
     "text": [
      "0.38586989447403386 0.3825554176296936\n",
      "13.361976832334681 13.291489790405373\n",
      "9.027178773149146 9.01838252187665\n",
      "2.2756833873717772 2.2656113715159005\n",
      "15.982556387854789 15.814691583784775\n",
      "2.369640486052015 2.3667838202804172\n",
      "7.453070427434331 7.414197633382133\n",
      "0.5697870989829539 0.5695248082416495\n",
      "2.621199181437695 2.6179637951071526\n",
      "10.91848026833519 10.764041731971908\n",
      "28.788455265455923 28.04302083152725\n",
      "22.563804215784184 22.233840554544546\n",
      "9.456704197848815 9.411985774094287\n",
      "6.724005783692206 6.70616592215749\n",
      "2.1692142255456055 2.167610991807672\n",
      "1.2504013484218484 1.248833072682618\n",
      "7.859571118239234 7.837844759210487\n",
      "12.278591540565682 12.084573046424351\n",
      "14.20513723742462 14.180380940392151\n",
      "11.77711260827459 11.653640649425022\n",
      "10.457882679587936 10.419813873221527\n",
      "12.713292000470393 12.551811568242353\n",
      "17.78910858935007 17.701162757894913\n",
      "5.567119333928112 5.548463569143941\n",
      "6.222792447805229 6.221130309999873\n"
     ]
    }
   ],
   "source": [
    "N=3\n",
    "for _ in range(10000):\n",
    "    A = np.random.rand(3,3)-0.5\n",
    "    A = A + A.T\n",
    "    B = np.random.rand(3,3)-0.5\n",
    "    B = B+B.T\n",
    "    normB , _ = np.linalg.eigh(B)\n",
    "    normB = max(np.abs(normB))\n",
    "    quant = A@B@A@A@A + B@A@A@A@A +A@B@B@A\n",
    "    quant,_ = np.linalg.eigh(quant)\n",
    "    quant =  max(np.abs(quant))\n",
    "    bound,_ = np.linalg.eigh( 2* normB * (A@A@A@A) + normB**2 * A@A )\n",
    "    bound = max(np.abs(bound))\n",
    "    if quant/bound > 1:\n",
    "        print(quant,bound)\n",
    "    "
   ]
  },
  {
   "cell_type": "code",
   "execution_count": null,
   "id": "67f26e1f",
   "metadata": {},
   "outputs": [],
   "source": []
  }
 ],
 "metadata": {
  "kernelspec": {
   "display_name": "Python 3",
   "language": "python",
   "name": "python3"
  },
  "language_info": {
   "codemirror_mode": {
    "name": "ipython",
    "version": 3
   },
   "file_extension": ".py",
   "mimetype": "text/x-python",
   "name": "python",
   "nbconvert_exporter": "python",
   "pygments_lexer": "ipython3",
   "version": "3.10.7"
  }
 },
 "nbformat": 4,
 "nbformat_minor": 5
}
