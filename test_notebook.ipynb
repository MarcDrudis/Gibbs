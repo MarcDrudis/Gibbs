{
 "cells": [
  {
   "cell_type": "code",
   "execution_count": 38,
   "metadata": {},
   "outputs": [
    {
     "name": "stdout",
     "output_type": "stream",
     "text": [
      "Instruction(name='EfficientSU2', num_qubits=4, num_clbits=0, params=[ParameterExpression(6.78285365764887e-16), ParameterExpression(-1.33934991115378), ParameterExpression(3.58464211576547e-17), ParameterExpression(3.92591625219366e-17), ParameterExpression(-5.09449023009915e-16), ParameterExpression(2.31319035882162e-16), ParameterExpression(-2.07984474907694e-16), ParameterExpression(-5.25872347652854e-16), ParameterExpression(1.5707963267949), ParameterExpression(1.5707963267949), ParameterExpression(1.36104934946488e-16), ParameterExpression(8.78794391616814e-16), ParameterExpression(-1.56889404600833e-15), ParameterExpression(-9.01495231048047e-16), ParameterExpression(-3.56138426361195e-16), ParameterExpression(-3.88539977692513e-16)])\n"
     ]
    }
   ],
   "source": [
    "import numpy as np\n",
    "from qiskit.algorithms.time_evolvers.variational.var_qite import VarQITE\n",
    "from qiskit.algorithms.time_evolvers.time_evolution_problem import TimeEvolutionProblem\n",
    "from qiskit.quantum_info import Statevector, SparsePauliOp\n",
    "from qiskit.circuit.library import EfficientSU2\n",
    "from qiskit.utils import algorithm_globals\n",
    "from qiskit.primitives import Estimator\n",
    "from qiskit.algorithms.time_evolvers.variational import (\n",
    "    ImaginaryMcLachlanPrinciple,\n",
    ")\n",
    "from scipy.sparse.linalg import expm_multiply\n",
    "from qiskit.primitives import Sampler\n",
    "\n",
    "from qiskit.algorithms.gradients import LinCombQFI, LinCombEstimatorGradient\n",
    "\n",
    "from qiskit.quantum_info import partial_trace\n",
    "\n",
    "from qiskit.algorithms.gibbs_state_preparation.default_ansatz_builder import build_ansatz, build_init_ansatz_params_vals\n",
    "\n",
    "from qiskit.algorithms.gibbs_state_preparation.varqite_gibbs_state_builder import VarQiteGibbsStateBuilder\n",
    "from qiskit.visualization import plot_histogram\n",
    "\n",
    "hamiltonian = SparsePauliOp.from_list([(\"ZZ\",1.0)])\n",
    "ansatz = build_ansatz(2*hamiltonian.num_qubits,1)\n",
    "init_param_values = build_init_ansatz_params_vals(2*hamiltonian.num_qubits,1)\n",
    "init_statevector = Statevector(ansatz.assign_parameters(init_param_values,inplace=False))\n",
    "algorithm_globals.random_seed = 123\n",
    "estimator = Estimator()\n",
    "qfi = LinCombQFI(estimator)\n",
    "gradient = LinCombEstimatorGradient(estimator)\n",
    "var_principle = ImaginaryMcLachlanPrinciple(qfi, gradient)\n",
    "\n",
    "var_qite = VarQITE(\n",
    "    ansatz=ansatz,\n",
    "    initial_parameters = init_param_values,\n",
    "    variational_principle = var_principle,\n",
    "    estimator = estimator,\n",
    "    num_timesteps=20,\n",
    ")\n",
    "\n",
    "BOLTZMANN_CONSTANT = 1.38064852e-2\n",
    "beta = 40\n",
    "temperature = 1/(BOLTZMANN_CONSTANT*beta)\n",
    "\n",
    "param_dict = dict(zip(ansatz.parameters, init_param_values))\n",
    "sampler  = Sampler()\n",
    "gibbs_state_builder = VarQiteGibbsStateBuilder(sampler, var_qite,ansatz,param_dict)\n",
    "gibbs_state = gibbs_state_builder.build(hamiltonian, temperature=temperature, problem_hamiltonian_param_dict = param_dict)\n",
    "\n",
    "\n",
    "final_circuit = gibbs_state.gibbs_state_function.copy()\n",
    "qr = final_circuit.qregs[0]\n",
    "non_aux_registers = int(len(qr) / 2)\n",
    "new_creg = final_circuit._create_creg(non_aux_registers, \"meas\")\n",
    "final_circuit.add_register(new_creg)\n",
    "final_circuit.barrier()\n",
    "for i in range(non_aux_registers):\n",
    "    final_circuit.measure(qr[i], new_creg[i])\n"
   ]
  },
  {
   "cell_type": "code",
   "execution_count": 39,
   "metadata": {},
   "outputs": [
    {
     "name": "stdout",
     "output_type": "stream",
     "text": [
      "[0.00666609 0.49333391 0.49333391 0.00666609]\n"
     ]
    }
   ],
   "source": [
    "qite_mixed_state = partial_trace(Statevector(gibbs_state.gibbs_state_function),list(range(0,hamiltonian.num_qubits)))\n",
    "print(qite_mixed_state.probabilities())"
   ]
  },
  {
   "cell_type": "code",
   "execution_count": 40,
   "metadata": {},
   "outputs": [
    {
     "name": "stdout",
     "output_type": "stream",
     "text": [
      "Sampled Results\n",
      "SamplerResult(quasi_dists=[{0: 0.008, 1: 0.494, 2: 0.493, 3: 0.005}], metadata=[{'shots': 1000}])\n"
     ]
    }
   ],
   "source": [
    "sampler = Sampler()\n",
    "probs = sampler.run(final_circuit,shots=1000)\n",
    "print(\"Sampled Results\")\n",
    "print(probs.result())"
   ]
  },
  {
   "cell_type": "code",
   "execution_count": 41,
   "metadata": {},
   "outputs": [
    {
     "name": "stdout",
     "output_type": "stream",
     "text": [
      "[9.02425694e-36 5.00000000e-01 5.00000000e-01 9.02425694e-36]\n"
     ]
    }
   ],
   "source": [
    "\n",
    "hamiltonian_extended = hamiltonian^(\"I\"*hamiltonian.num_qubits)\n",
    "theoretical_final_state = expm_multiply(-hamiltonian_extended.to_matrix(sparse=True)*beta/2,init_statevector.data)\n",
    "theoretical_final_state = theoretical_final_state/np.linalg.norm(theoretical_final_state)\n",
    "theoretical_final_state = partial_trace(Statevector(theoretical_final_state),list(range(0,hamiltonian.num_qubits)))\n",
    "print(theoretical_final_state.probabilities())"
   ]
  },
  {
   "cell_type": "code",
   "execution_count": 42,
   "metadata": {},
   "outputs": [
    {
     "data": {
      "image/png": "[encoded data removed]",
      "text/plain": [
       "<Figure size 504x360 with 1 Axes>"
      ]
     },
     "execution_count": 42,
     "metadata": {},
     "output_type": "execute_result"
    }
   ],
   "source": [
    "classical = {\"{0:b}\".format(n) : p for n,p in enumerate(theoretical_final_state.probabilities())}\n",
    "quasi_dist = {\"{0:b}\".format(n) : p for n,p in enumerate(probs.result().quasi_dists[0].values())}\n",
    "qite_dist = {\"{0:b}\".format(n) : p for n,p in enumerate(qite_mixed_state.probabilities())}\n",
    "plot_histogram([quasi_dist,qite_dist,classical],legend=[\"Quasi\",\"QITE\",\"Classical\"])"
   ]
  }
 ],
 "metadata": {
  "kernelspec": {
   "display_name": "Python 3.10.7 ('Darius_Gibbs')",
   "language": "python",
   "name": "python3"
  },
  "language_info": {
   "codemirror_mode": {
    "name": "ipython",
    "version": 3
   },
   "file_extension": ".py",
   "mimetype": "text/x-python",
   "name": "python",
   "nbconvert_exporter": "python",
   "pygments_lexer": "ipython3",
   "version": "3.10.7"
  },
  "orig_nbformat": 4,
  "vscode": {
   "interpreter": {
    "hash": "d2d700cd3a648c3ea236864064bbf01e20d1947c37f2ea4be0e177f22c67c314"
   }
  }
 },
 "nbformat": 4,
 "nbformat_minor": 2
}
